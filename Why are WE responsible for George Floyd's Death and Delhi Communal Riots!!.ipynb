{
 "cells": [
  {
   "cell_type": "code",
   "execution_count": 162,
   "metadata": {},
   "outputs": [],
   "source": [
    "import sys,tweepy,csv,re\n",
    "from textblob import TextBlob\n",
    "import matplotlib.pyplot as plt\n",
    "import pandas as pd\n",
    "import datetime"
   ]
  },
  {
   "cell_type": "code",
   "execution_count": 163,
   "metadata": {},
   "outputs": [],
   "source": [
    "consumerKey = 'yYwEaytceCJCwSZVMH2Cs0DSe'\n",
    "consumerSecret = 'L6emeCL2ZdRTJ4z1EyijCoDEDL0op5NKcLobSwFP8efJmCH7GX'\n",
    "accessToken = '1274146298-9ofLxDadlcvWJJdtgUZpVUKXdZAgBnS6Bd1Z7EI'\n",
    "accessTokenSecret = 'XVhyR8G8Bj0bTtiD6zKOpFmHjK5MdFhncIMCDVwpMrOC6'\n",
    "auth = tweepy.OAuthHandler(consumerKey, consumerSecret)\n",
    "auth.set_access_token(accessToken, accessTokenSecret)\n",
    "api = tweepy.API(auth)"
   ]
  },
  {
   "cell_type": "code",
   "execution_count": 164,
   "metadata": {},
   "outputs": [],
   "source": [
    "searchTerm = \"Fuck+Whites\"\n",
    "NoOfTerms = 1000\n",
    "start_date = datetime.datetime(2018, 1, 19, 12, 00, 00)\n",
    "end_date = datetime.datetime(2018, 1, 19, 13, 00, 00)\n",
    "tweets = tweepy.Cursor(api.search, q=searchTerm, lang = \"en\", since=start_date, until =end_date).items(NoOfTerms)"
   ]
  },
  {
   "cell_type": "code",
   "execution_count": 158,
   "metadata": {},
   "outputs": [],
   "source": [
    "positive = 0\n",
    "negative = 0\n",
    "neutral = 0 \n",
    "polarity = 0\n",
    "x={}\n",
    "\n",
    "for tweet in tweets:\n",
    "    analysis = TextBlob(tweet.text)\n",
    "    #print(tweet.text)\n",
    "    polarity += analysis.sentiment.polarity\n",
    "    if analysis.sentiment.polarity==0:\n",
    "        neutral+=1\n",
    "        sentiment = \"Neutral\"\n",
    "    elif analysis.sentiment.polarity<0:\n",
    "        negative+=1\n",
    "        sentiment = \"Negative\"\n",
    "    else:\n",
    "        positive+=1\n",
    "        sentiment = \"Positive\"\n",
    "    x[tweet.text]=sentiment"
   ]
  },
  {
   "cell_type": "code",
   "execution_count": 159,
   "metadata": {},
   "outputs": [],
   "source": [
    "def percentage(x,y):\n",
    "    print((x/y)*100)"
   ]
  },
  {
   "cell_type": "code",
   "execution_count": 160,
   "metadata": {},
   "outputs": [
    {
     "name": "stdout",
     "output_type": "stream",
     "text": [
      "0.0\n",
      "0.0\n",
      "0.0\n",
      "0.0\n"
     ]
    }
   ],
   "source": [
    "positive=percentage(positive,NoOfTerms)\n",
    "negative=percentage(negative,NoOfTerms)\n",
    "neutral=percentage(neutral,NoOfTerms)\n",
    "polarity=percentage(polarity,NoOfTerms)"
   ]
  },
  {
   "cell_type": "code",
   "execution_count": 161,
   "metadata": {},
   "outputs": [
    {
     "data": {
      "text/plain": [
       "{}"
      ]
     },
     "execution_count": 161,
     "metadata": {},
     "output_type": "execute_result"
    }
   ],
   "source": [
    "x"
   ]
  },
  {
   "cell_type": "code",
   "execution_count": null,
   "metadata": {},
   "outputs": [],
   "source": []
  }
 ],
 "metadata": {
  "kernelspec": {
   "display_name": "Python 3",
   "language": "python",
   "name": "python3"
  },
  "language_info": {
   "codemirror_mode": {
    "name": "ipython",
    "version": 3
   },
   "file_extension": ".py",
   "mimetype": "text/x-python",
   "name": "python",
   "nbconvert_exporter": "python",
   "pygments_lexer": "ipython3",
   "version": "3.7.3"
  }
 },
 "nbformat": 4,
 "nbformat_minor": 2
}
