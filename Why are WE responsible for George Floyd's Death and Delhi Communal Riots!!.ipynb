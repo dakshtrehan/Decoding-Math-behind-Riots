{
 "cells": [
  {
   "cell_type": "code",
   "execution_count": 21,
   "metadata": {},
   "outputs": [],
   "source": [
    "import sys,tweepy,csv,re\n",
    "from textblob import TextBlob\n",
    "import matplotlib.pyplot as plt\n",
    "import pandas as pd"
   ]
  },
  {
   "cell_type": "code",
   "execution_count": 69,
   "metadata": {},
   "outputs": [],
   "source": [
    "consumerKey = 'yYwEaytceCJCwSZVMH2Cs0DSe'\n",
    "consumerSecret = 'L6emeCL2ZdRTJ4z1EyijCoDEDL0op5NKcLobSwFP8efJmCH7GX'\n",
    "accessToken = '1274146298-9ofLxDadlcvWJJdtgUZpVUKXdZAgBnS6Bd1Z7EI'\n",
    "accessTokenSecret = 'XVhyR8G8Bj0bTtiD6zKOpFmHjK5MdFhncIMCDVwpMrOC6'\n",
    "auth = tweepy.OAuthHandler(consumerKey, consumerSecret)\n",
    "auth.set_access_token(accessToken, accessTokenSecret)\n",
    "api = tweepy.API(auth)"
   ]
  },
  {
   "cell_type": "code",
   "execution_count": 70,
   "metadata": {},
   "outputs": [
    {
     "name": "stdout",
     "output_type": "stream",
     "text": [
      "<tweepy.cursor.ItemIterator object at 0x000001EE20C7CBA8>\n"
     ]
    }
   ],
   "source": [
    "searchTerm = \"GeorgeFloyd\"\n",
    "NoOfTerms = 100\n",
    "tweets = tweepy.Cursor(api.search, q=searchTerm, lang = \"en\").items(NoOfTerms)\n",
    "print(tweets)"
   ]
  },
  {
   "cell_type": "code",
   "execution_count": 71,
   "metadata": {},
   "outputs": [],
   "source": [
    "#data=[i.text for i in tweets]"
   ]
  },
  {
   "cell_type": "code",
   "execution_count": 72,
   "metadata": {},
   "outputs": [],
   "source": [
    "#tweet_text = pd.DataFrame(data=data, \n",
    " #                   columns=['tweet'])\n",
    "#tweet_text"
   ]
  },
  {
   "cell_type": "code",
   "execution_count": 73,
   "metadata": {},
   "outputs": [
    {
     "name": "stdout",
     "output_type": "stream",
     "text": [
      "RT @enough14: \"Looting is a natural response to the unnatural and inhuman society of commodity abundance.\" The Decline and Fall of the Spec…\n",
      "RT @MrAndyNgo: Hundreds of antifa and others stand off against police in Portland. They hurl bottles, rock, blades, lit fireworks and more…\n",
      "RT @heedygreedy: This shit is real this gave me chills #blacklivesmatter #GeorgeFloyd #dcprotest https://t.co/j5lu7CqW3B\n",
      "RT @YourAnonCentral: An eye witness account from a medic who was shot by APD in the process of trying to administer medical aid to victim J…\n",
      "RT @MrAndyNgo: Hundreds of antifa and others stand off against police in Portland. They hurl bottles, rock, blades, lit fireworks and more…\n",
      "RT @heedygreedy: This shit is real this gave me chills #blacklivesmatter #GeorgeFloyd #dcprotest https://t.co/j5lu7CqW3B\n",
      "RT @RobertDeNiroUS: The section of 16th street in front of the White House is now officially “Black Lives Matter Plaza”. #GeorgeFloyd https…\n",
      "RT @larryelder: In the loving memory of #GeorgeFloyd, combating \"systemic racism\" one garment at a time...\n",
      "RT @heedygreedy: This shit is real this gave me chills #blacklivesmatter #GeorgeFloyd #dcprotest https://t.co/j5lu7CqW3B\n",
      "RT @KurlyKrissy: Who was #GeorgeFloyd https://t.co/QEHndur3p1\n",
      "RT @silver_stacker: BBC News - George Floyd protests: Misleading footage and conspiracy theories spread online\n",
      "https://t.co/m9dxix0W4s\n",
      "\n",
      "Pat…\n",
      "RT @larryelder: In the loving memory of #GeorgeFloyd, combating \"systemic racism\" one garment at a time...\n",
      "RT @heedygreedy: This shit is real this gave me chills #blacklivesmatter #GeorgeFloyd #dcprotest https://t.co/j5lu7CqW3B\n",
      "RT @DavidJHarrisJr: White Americans kneeling for blacks???\n",
      "\n",
      "I'm sorry, this is disgusting! \n",
      "Subscribe to my podcast below\n",
      "iTunes - https://…\n",
      "RT @homegrownasbo: This needs to be seen\n",
      "#BlackLivesMattter #nycprotests #TrumpOut2020 #GeorgeFloyd #protest #riots2020 https://t.co/wAD8kP…\n",
      "According to the global firepower rankings, the countries in red had less military budget than LAPD and NYPD. So wh… https://t.co/mVXyPptjfe\n",
      "RT @KTHopkins: Which is the truth? \n",
      "\n",
      "Devoted father. Gentle giant. \n",
      "\n",
      "Or \n",
      "\n",
      "Serial offender. Violent criminal. \n",
      "\n",
      "#GeorgeFloyd https://t.co/7X…\n",
      "RT @zoo_bear: More Indians have heard of #GeorgeFloyd than of #Faizan. #DelhiRiots\n",
      "RT @IAMCouncil: India’s #GeorgeFloyd moment: A policeman in Indian state of Rajasthan kneeling down on a man's neck for not putting on his…\n",
      "RT @heedygreedy: This shit is real this gave me chills #blacklivesmatter #GeorgeFloyd #dcprotest https://t.co/j5lu7CqW3B\n",
      "RT @heedygreedy: This shit is real this gave me chills #blacklivesmatter #GeorgeFloyd #dcprotest https://t.co/j5lu7CqW3B\n",
      "RT @ali: White Progressives are using Blacks like dogs\n",
      "\n",
      "How do we know this? \n",
      "\n",
      "@keithellison has over-charged the officers from the #George…\n",
      "RT @heedygreedy: This shit is real this gave me chills #blacklivesmatter #GeorgeFloyd #dcprotest https://t.co/j5lu7CqW3B\n",
      "RT @YourAnonCentral: K-pop fans, maestros of social media, bring their powers to bear on #BlackLivesMatter activism. \n",
      "\n",
      "#Anonymous #ICantBre…\n",
      "@iamkvngdavid_ @Badboyjuwon @_thyfather @Yelathebeast @OluokunD @KingKokoBanky @olathebabe @lonzobob @chinoyeh… https://t.co/7MJgoZUFW8\n",
      "RT @John2261: @HMLoeschMcK @pam_sands The riots have NOTHING to do wit #GeorgeFloyd. The riots are being perpetrated by the Thugs of Antifa…\n",
      "RT @starknightz: 1. News: Twitter REMOVES President Trump's Call For Unity Video... Because Why? Reasons... https://t.co/BC9udp2ecc #RIP #G…\n",
      "RT @YourAnonCentral: K-pop fans, maestros of social media, bring their powers to bear on #BlackLivesMatter activism. \n",
      "\n",
      "#Anonymous #ICantBre…\n",
      "RT @RobertDeNiroUS: \"People are chanting “I CAN’T BREATHE”. The march is growing significantly.\" #canada #Georgefloyd https://t.co/NXFYBlJ6…\n",
      "RT @YourAnonCentral: K-pop fans, maestros of social media, bring their powers to bear on #BlackLivesMatter activism. \n",
      "\n",
      "#Anonymous #ICantBre…\n",
      "RT @YourAnonCentral: As previously seen in the Iraq war, the U.S. regime forces are now conducting a 'hearts and minds' campaign to pacify…\n",
      "@enjuhoney @S0FTCH4E @hyunwgons @bbypiratee #blacklifematters #GeorgeFloyd #BreonnaTaylor #BlackLivesMatter  \n",
      "\n",
      "peop… https://t.co/nRiDQIhkER\n",
      "#GeorgeFloyd death: Matt Hancock urges UK public to avoid protests. This very tragic event really needs people not… https://t.co/CfnwOUemYh\n",
      "RT @heedygreedy: This shit is real this gave me chills #blacklivesmatter #GeorgeFloyd #dcprotest https://t.co/j5lu7CqW3B\n",
      "RT @heedygreedy: This shit is real this gave me chills #blacklivesmatter #GeorgeFloyd #dcprotest https://t.co/j5lu7CqW3B\n",
      "RT @DavidJHarrisJr: White Americans kneeling for blacks???\n",
      "\n",
      "I'm sorry, this is disgusting! \n",
      "Subscribe to my podcast below\n",
      "iTunes - https://…\n",
      "RT @heedygreedy: This shit is real this gave me chills #blacklivesmatter #GeorgeFloyd #dcprotest https://t.co/j5lu7CqW3B\n",
      "RT @heedygreedy: This shit is real this gave me chills #blacklivesmatter #GeorgeFloyd #dcprotest https://t.co/j5lu7CqW3B\n",
      "RT @imanrappetti: #RestInPower #GeorgeFloyd\n",
      "Not sure who did the cartoon. It screams. https://t.co/Z7MVMCJKu2\n",
      "RT @heedygreedy: This shit is real this gave me chills #blacklivesmatter #GeorgeFloyd #dcprotest https://t.co/j5lu7CqW3B\n",
      "RT @YourAnonCentral: K-pop fans, maestros of social media, bring their powers to bear on #BlackLivesMatter activism. \n",
      "\n",
      "#Anonymous #ICantBre…\n",
      "@mayorpascal @omehi_ @chalgra @Tested_Ceriouz @OGCarterMillz @thesanasi @sammy_sweett @MaataVermillion @manlikesteh… https://t.co/AH3LktoTuU\n",
      "Get urselves out on ur run/cycle/walk past this beautiful mural on the Falls Road’s International Wall. The wall is… https://t.co/8F9BD8Q7Q2\n",
      "Whats fucked up is that the victim and the woman thought that by “back up” coming they would be able to reason with… https://t.co/XFd3qAMs2w\n",
      "RT @heedygreedy: This shit is real this gave me chills #blacklivesmatter #GeorgeFloyd #dcprotest https://t.co/j5lu7CqW3B\n",
      "RT @jbeckerfinn: I am a suburban mom. I don’t need an apology. I need the GOP Senate to support meaningful legislation to address systemic…\n",
      "RT @MrAndyNgo: Hundreds of antifa and others stand off against police in Portland. They hurl bottles, rock, blades, lit fireworks and more…\n",
      "RT @zoo_bear: More Indians have heard of #GeorgeFloyd than of #Faizan. #DelhiRiots\n",
      "RT @IJiminToday_: #blacklifematters #GeorgeFloyd #BreonnaTaylor #BlackLivesMatter        \n",
      "\n",
      "People i know who wouldn’t break the chain\n",
      "\n",
      "@Wis…\n",
      "RT @heedygreedy: This shit is real this gave me chills #blacklivesmatter #GeorgeFloyd #dcprotest https://t.co/j5lu7CqW3B\n",
      "RT @DavidJHarrisJr: White Americans kneeling for blacks???\n",
      "\n",
      "I'm sorry, this is disgusting! \n",
      "Subscribe to my podcast below\n",
      "iTunes - https://…\n",
      "RT @heedygreedy: This shit is real this gave me chills #blacklivesmatter #GeorgeFloyd #dcprotest https://t.co/j5lu7CqW3B\n",
      "RT @larryelder: In the loving memory of #GeorgeFloyd, combating \"systemic racism\" one garment at a time...\n",
      "RT @murphryan: *North Richland Hills Protest*\n",
      "Tuesday 6/9/2020 at 6pm, meet at Richland High School and then walk towards Rufe Snow. Come p…\n",
      "RT @breakfastclubam: #GeorgeFloyd's 6-year-old daughter is well aware of the impact her father has had on the world.\n",
      "\n",
      "https://t.co/tq7loG83…\n",
      "RT @reallKevinTrump: Ok, I will just say it:\n",
      "\n",
      "#BlackLivesMattter if that is true (and I believe they do), then Black people should act like…\n",
      "RT @MrAndyNgo: Hundreds of antifa and others stand off against police in Portland. They hurl bottles, rock, blades, lit fireworks and more…\n",
      "RT @heedygreedy: This shit is real this gave me chills #blacklivesmatter #GeorgeFloyd #dcprotest https://t.co/j5lu7CqW3B\n",
      "#blacklifematters #GeorgeFloyd #BreonnaTaylor #BlackLivesMatter        \n",
      "\n",
      "People i know who wouldn’t break the chain… https://t.co/QRhYOe03LF\n",
      "RT @heedygreedy: This shit is real this gave me chills #blacklivesmatter #GeorgeFloyd #dcprotest https://t.co/j5lu7CqW3B\n",
      "RT @VaticanNews: #PopeFrancis speaks out against all forms of racism and exclusion in the wake of protests in cities across the US. #George…\n",
      "@MOTS7ALL @JKJngKimParkMin @everythingoes99 @phabbik @foofleton @BTSArmyMomMD1 @SourPat81251177 @cyj_kim @bkbts… https://t.co/ohzJEyINkk\n",
      "RT @heedygreedy: This shit is real this gave me chills #blacklivesmatter #GeorgeFloyd #dcprotest https://t.co/j5lu7CqW3B\n",
      "RT @SholaMos1: 👏This. Is. How. To. Be. An. ALLY to stop RACISM!\n",
      "\n",
      "Every White person should be like Hayley Clark! This young girl takes on r…\n",
      "RT @Okwonga: This is maybe the angriest thing I have ever written, and it’s how I feel about the week we’ve just seen: “Don’t tell me there…\n",
      "RT @TCD2R: 👁‍🗨: The Energy! ✊🏽🖤 FEEL THE UNITY! CHANGE! “GET UP, STAND UP, DON’T GIVE UP THE FIGHT!” -Brisbane, Australia! Thank you @kayla…\n",
      "RT @damian_from: RT if you do not want the United States to be the policeman of the world #GeorgeFloyd\n",
      "RT @heedygreedy: This shit is real this gave me chills #blacklivesmatter #GeorgeFloyd #dcprotest https://t.co/j5lu7CqW3B\n",
      "RT @HMcEntee: I’ve seen so much footage of armed military in the US attacking peaceful protestors. It’s upsetting, it’s infuriating, its ha…\n",
      "RT @heedygreedy: This shit is real this gave me chills #blacklivesmatter #GeorgeFloyd #dcprotest https://t.co/j5lu7CqW3B\n",
      "RT @michaeljohns: Facts:\n",
      "\n",
      "1.) @realDonaldTrump did not bring #coronavirus to America; #China did that. \n",
      "\n",
      "2.) #Trump did not kill #GeorgeFlo…\n"
     ]
    },
    {
     "name": "stdout",
     "output_type": "stream",
     "text": [
      "RT @Lil_Fishscale: Ever heard of the saying “ Fuck You and the Horse You Rode in on” #BlackLivesMattters the fucking horse will live , unli…\n",
      "RT @teacherdude: Photo from a mass 'die-in' staged in the northern Greek city of Thessaloniki last night. #BlackLivesMatter #GeorgeFloyd #G…\n",
      "RT @heedygreedy: This shit is real this gave me chills #blacklivesmatter #GeorgeFloyd #dcprotest https://t.co/j5lu7CqW3B\n",
      "RT @TheDamaniFelder: These riots stopped being about #GeorgeFloyd a long time ago. Enough is enough. I’m fed up watching us destroy ourselv…\n",
      "RT @heedygreedy: This shit is real this gave me chills #blacklivesmatter #GeorgeFloyd #dcprotest https://t.co/j5lu7CqW3B\n",
      "Us black people need a one minute silence for slavery like we do for 9/11 and for the end of the war.… https://t.co/dkknpo8bBU\n",
      "RT @heedygreedy: This shit is real this gave me chills #blacklivesmatter #GeorgeFloyd #dcprotest https://t.co/j5lu7CqW3B\n",
      "RT @YourAnosCentral: THIS MOM IS MAKING THIS POOR GIRL FEEL LIKE SHE IS CRAZY FOR CARING ABOUT BLACK LIVES.  BASED ON THE COMMENTS THIS IS…\n",
      "RT @RealCandaceO: Confession: #GeorgeFloyd is neither a martyr or a hero. But I hope his family gets justice. https://t.co/Lnxz0usrp5\n",
      "RT @AamerAnwar: Horrified at 🇺🇸 #GeorgeFloyd dying as he struggled to breathe whilst being knelt on by a police officer, also remember #She…\n",
      "RT @bengarvin: During yesterday’s #GeorgeFloyd funeral thousands gathered at the spot where he was killed in Minneapolis as loud speakers p…\n",
      "RT @YourAnonCentral: \"No Justice No Peace\"\n",
      " \n",
      "The future is now. Resistance is Existence. \n",
      "\n",
      "#GeorgeFloyd #BlackLivesMatter #Merrick #ICantBr…\n",
      "@sage3524 @Loucari0 @herrbambusboi @LunovOfficial @kronkboi @AoTMassimo @yunsmelody @HappyeIli @AsthmaDaddy… https://t.co/ZgHYu0uiQ0\n",
      "RT @heedygreedy: This shit is real this gave me chills #blacklivesmatter #GeorgeFloyd #dcprotest https://t.co/j5lu7CqW3B\n",
      "A local police officer on the Pine Ridge Indian Reservation protesting for the Black Lives Matter movement. \n",
      "#BLM… https://t.co/eLh7QQ8fMd\n",
      "RT @AnthonyQuintano: This is what #BlackLivesMatter plaza looks like from above. #blm #georgefloyd #WashingtonDC https://t.co/jjCSJR2c3i\n",
      "RT @Barnes_Law: Just a reminder: the responsibility for #GeorgeFloyd rests with Democrats who let rogue cops continue to operate after doze…\n",
      "RT @TheBlastNews: Johnny Depp spoke about the 'abuse of power' in the death of #GeorgeFloyd https://t.co/6zA2NhOMT6\n",
      "RT @heedygreedy: This shit is real this gave me chills #blacklivesmatter #GeorgeFloyd #dcprotest https://t.co/j5lu7CqW3B\n",
      "RT @heedygreedy: This shit is real this gave me chills #blacklivesmatter #GeorgeFloyd #dcprotest https://t.co/j5lu7CqW3B\n",
      "RT @heedygreedy: This shit is real this gave me chills #blacklivesmatter #GeorgeFloyd #dcprotest https://t.co/j5lu7CqW3B\n",
      "RT @PauleyP: Who shot the #GeorgeFloyd video? If it is dangerous to answer, I understand, but thank GOD you did! And I can’t imagine how yo…\n",
      "RT @OmarJimenez: Leaving Minneapolis after what’s been nothing but a truly humbling experience. \n",
      "\n",
      "Some camera roll images that stand out fr…\n",
      "RT @heedygreedy: This shit is real this gave me chills #blacklivesmatter #GeorgeFloyd #dcprotest https://t.co/j5lu7CqW3B\n",
      "RT @ukblm: If you are attending any protest, please save this in your phone. Pass it on to anyone you know attending a protest. Write the o…\n",
      "RT @heedygreedy: This shit is real this gave me chills #blacklivesmatter #GeorgeFloyd #dcprotest https://t.co/j5lu7CqW3B\n",
      "RT @heedygreedy: This shit is real this gave me chills #blacklivesmatter #GeorgeFloyd #dcprotest https://t.co/j5lu7CqW3B\n",
      "RT @SholaMos1: 🔥 More White allies like Jane Elliot please! See how she shuts this Karen down! #BlackLivesMatter #GeorgeFloyd\n",
      "RT @MrAndyNgo: Hundreds of antifa and others stand off against police in Portland. They hurl bottles, rock, blades, lit fireworks and more…\n"
     ]
    }
   ],
   "source": [
    "positive = 0\n",
    "negative = 0\n",
    "neutral = 0 \n",
    "polarity = 0\n",
    "\n",
    "for tweet in tweets:\n",
    "    print(tweet.text)\n",
    "    analysis = TextBlob(tweet.text)\n",
    "    polarity += analysis.sentiment.polarity\n",
    "    if analysis.sentiment.polarity==0:\n",
    "        neutral+=1\n",
    "    elif analysis.sentiment.polarity<0:\n",
    "        negative+=1\n",
    "    else:\n",
    "        positive+=1"
   ]
  },
  {
   "cell_type": "code",
   "execution_count": 74,
   "metadata": {},
   "outputs": [],
   "source": [
    "def percentage(x,y):\n",
    "    print((x/y)*100)"
   ]
  },
  {
   "cell_type": "code",
   "execution_count": 75,
   "metadata": {},
   "outputs": [
    {
     "name": "stdout",
     "output_type": "stream",
     "text": [
      "18.0\n",
      "20.0\n",
      "62.0\n",
      "-0.015610269360269227\n"
     ]
    }
   ],
   "source": [
    "positive=percentage(positive,NoOfTerms)\n",
    "negative=percentage(negative,NoOfTerms)\n",
    "neutral=percentage(neutral,NoOfTerms)\n",
    "polarity=percentage(polarity,NoOfTerms)"
   ]
  },
  {
   "cell_type": "code",
   "execution_count": null,
   "metadata": {},
   "outputs": [],
   "source": []
  },
  {
   "cell_type": "code",
   "execution_count": null,
   "metadata": {},
   "outputs": [],
   "source": []
  }
 ],
 "metadata": {
  "kernelspec": {
   "display_name": "Python 3",
   "language": "python",
   "name": "python3"
  },
  "language_info": {
   "codemirror_mode": {
    "name": "ipython",
    "version": 3
   },
   "file_extension": ".py",
   "mimetype": "text/x-python",
   "name": "python",
   "nbconvert_exporter": "python",
   "pygments_lexer": "ipython3",
   "version": "3.7.3"
  }
 },
 "nbformat": 4,
 "nbformat_minor": 2
}
